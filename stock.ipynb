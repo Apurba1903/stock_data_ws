{
 "cells": [
  {
   "cell_type": "code",
   "execution_count": 27,
   "id": "03dc9fdc",
   "metadata": {},
   "outputs": [],
   "source": [
    "from selenium import webdriver\n",
    "import time\n",
    "from selenium.webdriver.common.by import By\n",
    "from selenium.webdriver.support.ui import WebDriverWait\n",
    "from selenium.webdriver.support import expected_conditions as EC\n",
    "from selenium.webdriver.common.action_chains import ActionChains"
   ]
  },
  {
   "cell_type": "code",
   "execution_count": null,
   "id": "b8c1fc82",
   "metadata": {},
   "outputs": [
    {
     "name": "stdout",
     "output_type": "stream",
     "text": [
      "The page \"Yahoo Finance - Stock Market Live, Quotes, Business & Finance News\" is successfully loaded.\n",
      "\n",
      "The page \"Yahoo Finance - Stock Market Live, Quotes, Business & Finance News\" is successfully loaded.\n",
      "\n",
      "The page \"Top Trending Stocks: US stocks with the highest interest today - Yahoo Finance\" is successfully loaded.\n",
      "\n",
      "The Next Button is not clickable. We have navigated through all the pages.\n"
     ]
    }
   ],
   "source": [
    "driver = webdriver.Chrome()\n",
    "driver.maximize_window()\n",
    "\n",
    "\n",
    "# Explicit Wait\n",
    "wait = WebDriverWait(driver, 5)\n",
    "\n",
    "\n",
    "# A function to check if the URL is fully Loaded.\n",
    "def wait_for_page_to_load(driver, wait):\n",
    "    page_title = driver.title\n",
    "    try:\n",
    "        wait.until(\n",
    "            lambda d: d.execute_script(\"return document.readyState\") == \"complete\"\n",
    "        )\n",
    "        \n",
    "    except:\n",
    "        print(f\"The page \\\"{page_title}\\\" did not get fully loaded within the given duration.\\n\")\n",
    "        \n",
    "    else:\n",
    "        print(f\"The page \\\"{page_title}\\\" is successfully loaded.\\n\")\n",
    "\n",
    "\n",
    "url = \"https://finance.yahoo.com/\"\n",
    "driver.get(url)\n",
    "wait_for_page_to_load(driver, wait)\n",
    "\n",
    "\n",
    "# Hovering on Market Menu\n",
    "actions = ActionChains(driver)\n",
    "markets_menu = wait.until(\n",
    "    EC.presence_of_element_located((By.XPATH, '/html[1]/body[1]/div[2]/header[1]/div[1]/div[1]/div[1]/div[4]/div[1]/div[1]/ul[1]/li[3]/a[1]/span[1]'))\n",
    ")\n",
    "actions.move_to_element(markets_menu).perform()\n",
    "\n",
    "\n",
    "# Click on Trending Tickers\n",
    "trending_tickers = wait.until(\n",
    "    EC.element_to_be_clickable((By.XPATH, '/html[1]/body[1]/div[2]/header[1]/div[1]/div[1]/div[1]/div[4]/div[1]/div[1]/ul[1]/li[3]/div[1]/ul[1]/li[4]/a[1]/div[1]'))\n",
    ")\n",
    "trending_tickers.click()\n",
    "wait_for_page_to_load(driver, wait)\n",
    "\n",
    "\n",
    "# Click on Most Active Menu\n",
    "most_active = wait.until(\n",
    "    EC.element_to_be_clickable((By.XPATH, '/html[1]/body[1]/div[2]/main[1]/section[1]/section[1]/section[1]/article[1]/section[1]/div[1]/nav[1]/ul[1]/li[1]/a[1]/span[1]'))\n",
    ")\n",
    "most_active.click()\n",
    "wait_for_page_to_load(driver, wait)\n",
    "\n",
    "\n",
    "# Scraping The Data\n",
    "while True:\n",
    "    # Scraping\n",
    "    \n",
    "    # Clicking Next\n",
    "    try:\n",
    "        next_button = wait.until(\n",
    "            EC.element_to_be_clickable((By.XPATH, '//*[@id=\"nimbus-app\"]/section/section/section/article/section[1]/div/div[3]/div[3]/button[3]'))\n",
    "        )\n",
    "    except:\n",
    "        print(\"The Next Button is not clickable. We have navigated through all the pages.\\n\")\n",
    "        break\n",
    "    else:\n",
    "        next_button.click()\n",
    "        time.sleep(1)   \n",
    "\n",
    "\n",
    "\n"
   ]
  },
  {
   "cell_type": "code",
   "execution_count": null,
   "id": "426d5f28",
   "metadata": {},
   "outputs": [],
   "source": []
  },
  {
   "cell_type": "code",
   "execution_count": null,
   "id": "6c088873",
   "metadata": {},
   "outputs": [],
   "source": []
  }
 ],
 "metadata": {
  "kernelspec": {
   "display_name": "WebScraping",
   "language": "python",
   "name": "webscraping"
  },
  "language_info": {
   "codemirror_mode": {
    "name": "ipython",
    "version": 3
   },
   "file_extension": ".py",
   "mimetype": "text/x-python",
   "name": "python",
   "nbconvert_exporter": "python",
   "pygments_lexer": "ipython3",
   "version": "3.11.9"
  }
 },
 "nbformat": 4,
 "nbformat_minor": 5
}
